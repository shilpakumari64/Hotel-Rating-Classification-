{
 "cells": [
  {
   "cell_type": "markdown",
   "id": "e429765a",
   "metadata": {},
   "source": [
    "##  <P182 - Hotel Rating Classification >\n",
    "**Business Objective:**\n",
    "- The major objective is what are the attributes that travelers are considering while selecting a hotel. With this manager can understand which elements of their hotel influence more in forming a positive review or improves hotel brand image."
   ]
  },
  {
   "cell_type": "code",
   "execution_count": null,
   "id": "abd503ac",
   "metadata": {},
   "outputs": [],
   "source": [
    "import numpy as np\n",
    "import pandas as pd\n",
    "import matplotlib.pyplot as plt\n",
    "import seaborn as sns\n",
    "import string\n",
    "import spacy\n",
    "\n",
    "from wordcloud import WordCloud, STOPWORDS\n",
    "%matplotlib inline"
   ]
  },
  {
   "cell_type": "code",
   "execution_count": null,
   "id": "1cbd590d",
   "metadata": {
    "scrolled": false
   },
   "outputs": [],
   "source": [
    "data=pd.read_excel(\"hotel_reviews.xlsx\")\n",
    "data"
   ]
  },
  {
   "cell_type": "code",
   "execution_count": null,
   "id": "d92bed74",
   "metadata": {},
   "outputs": [],
   "source": [
    "data[\"Review\"][4]"
   ]
  },
  {
   "cell_type": "code",
   "execution_count": null,
   "id": "dc8d4689",
   "metadata": {
    "scrolled": true
   },
   "outputs": [],
   "source": [
    "data.info()"
   ]
  },
  {
   "cell_type": "markdown",
   "id": "c5c0dd0f",
   "metadata": {},
   "source": [
    "Every value in Rating column is float"
   ]
  },
  {
   "cell_type": "code",
   "execution_count": null,
   "id": "27142f48",
   "metadata": {},
   "outputs": [],
   "source": [
    "sns.countplot(x='Rating',data= data)\n",
    "plt.title(\"Distribution of Rating\")"
   ]
  },
  {
   "cell_type": "code",
   "execution_count": null,
   "id": "a5560f70",
   "metadata": {
    "scrolled": true
   },
   "outputs": [],
   "source": [
    "data[\"Rating\"].value_counts()"
   ]
  },
  {
   "cell_type": "code",
   "execution_count": null,
   "id": "7c56ca5f",
   "metadata": {},
   "outputs": [],
   "source": [
    "print(data[\"Rating\"].value_counts()/len(data))"
   ]
  },
  {
   "cell_type": "markdown",
   "id": "3119bfd3",
   "metadata": {},
   "source": [
    "73% of ratings are good"
   ]
  },
  {
   "cell_type": "code",
   "execution_count": null,
   "id": "ea8b94fd",
   "metadata": {
    "scrolled": true
   },
   "outputs": [],
   "source": [
    "Reviews = data.Review.values\n",
    "Reviews"
   ]
  },
  {
   "cell_type": "code",
   "execution_count": null,
   "id": "c1464ed0",
   "metadata": {},
   "outputs": [],
   "source": [
    "len(Reviews)"
   ]
  },
  {
   "cell_type": "code",
   "execution_count": null,
   "id": "1d2cc644",
   "metadata": {
    "scrolled": true
   },
   "outputs": [],
   "source": [
    "Reviews_text=' '.join(Reviews)\n",
    "Reviews_text"
   ]
  },
  {
   "cell_type": "markdown",
   "id": "4e01969e",
   "metadata": {},
   "source": [
    "# Tockenization"
   ]
  },
  {
   "cell_type": "code",
   "execution_count": null,
   "id": "20651aa8",
   "metadata": {},
   "outputs": [],
   "source": [
    "from nltk.tokenize import TweetTokenizer\n",
    "tknzr = TweetTokenizer(strip_handles=True)\n",
    "Reviews_tokens=tknzr.tokenize(Reviews_text)"
   ]
  },
  {
   "cell_type": "code",
   "execution_count": null,
   "id": "a63fc9b9",
   "metadata": {},
   "outputs": [],
   "source": [
    "len(Reviews_tokens)"
   ]
  },
  {
   "cell_type": "code",
   "execution_count": null,
   "id": "3008c00f",
   "metadata": {
    "scrolled": true
   },
   "outputs": [],
   "source": [
    "Reviews_tokens"
   ]
  },
  {
   "cell_type": "code",
   "execution_count": null,
   "id": "084bad00",
   "metadata": {},
   "outputs": [],
   "source": [
    "Reviews_tokens_text=' '.join(Reviews_tokens)\n",
    "Reviews_tokens_text"
   ]
  },
  {
   "cell_type": "markdown",
   "id": "ddaaa721",
   "metadata": {},
   "source": [
    "# Remove Punctuations"
   ]
  },
  {
   "cell_type": "code",
   "execution_count": null,
   "id": "4757d819",
   "metadata": {},
   "outputs": [],
   "source": [
    "no_punc_Reviews_tokens_text= Reviews_tokens_text.translate(str.maketrans('','',string.punctuation))\n",
    "no_punc_Reviews_tokens_text"
   ]
  },
  {
   "cell_type": "markdown",
   "id": "04dfe365",
   "metadata": {},
   "source": [
    "# Tokenization"
   ]
  },
  {
   "cell_type": "code",
   "execution_count": null,
   "id": "7e75d3c6",
   "metadata": {},
   "outputs": [],
   "source": [
    "from nltk.tokenize import word_tokenize\n",
    "text_tokens=word_tokenize(no_punc_Reviews_tokens_text)\n",
    "text_tokens"
   ]
  },
  {
   "cell_type": "code",
   "execution_count": null,
   "id": "e2f591f2",
   "metadata": {},
   "outputs": [],
   "source": [
    "len(text_tokens)"
   ]
  },
  {
   "cell_type": "code",
   "execution_count": null,
   "id": "3c12ac33",
   "metadata": {},
   "outputs": [],
   "source": [
    "from nltk.corpus import stopwords\n",
    "stop_words=stopwords.words('english')"
   ]
  },
  {
   "cell_type": "code",
   "execution_count": null,
   "id": "892f1cf5",
   "metadata": {},
   "outputs": [],
   "source": [
    "print(stop_words)"
   ]
  },
  {
   "cell_type": "code",
   "execution_count": null,
   "id": "49e87844",
   "metadata": {},
   "outputs": [],
   "source": [
    "no_stop_tokens=[word for word in text_tokens if not word in stop_words]\n",
    "no_stop_tokens"
   ]
  },
  {
   "cell_type": "markdown",
   "id": "24a47eb8",
   "metadata": {},
   "source": [
    "# Normalizing"
   ]
  },
  {
   "cell_type": "code",
   "execution_count": null,
   "id": "bb53f3e6",
   "metadata": {
    "scrolled": true
   },
   "outputs": [],
   "source": [
    "lower_words=[Text.lower() for Text in no_stop_tokens]\n",
    "print(lower_words[100:200])"
   ]
  },
  {
   "cell_type": "markdown",
   "id": "433deb49",
   "metadata": {},
   "source": [
    "# Stemming"
   ]
  },
  {
   "cell_type": "code",
   "execution_count": null,
   "id": "4d205196",
   "metadata": {
    "scrolled": true
   },
   "outputs": [],
   "source": [
    "from nltk.stem import PorterStemmer\n",
    "ps=PorterStemmer()\n",
    "stemmed_tokens=[ps.stem(word) for word in lower_words]\n",
    "print(stemmed_tokens[100:200])"
   ]
  },
  {
   "cell_type": "code",
   "execution_count": null,
   "id": "98973fb2",
   "metadata": {
    "scrolled": true
   },
   "outputs": [],
   "source": [
    "len(lower_words)/10000"
   ]
  },
  {
   "cell_type": "code",
   "execution_count": null,
   "id": "55281101",
   "metadata": {},
   "outputs": [],
   "source": [
    "doc1=[]\n",
    "for i in range (0, len(lower_words) , 10000):\n",
    "    if(i<len(lower_words)):\n",
    "        doc1.append(lower_words[0:10000])\n",
    "    else : doc1.append(lower_words[-i:])"
   ]
  },
  {
   "cell_type": "code",
   "execution_count": null,
   "id": "631e37d6",
   "metadata": {
    "scrolled": true
   },
   "outputs": [],
   "source": [
    "nlp=spacy.load('en_core_web_sm')\n",
    "for word_list in doc1:\n",
    "    doc=nlp(' '.join(word_list))\n",
    "print(doc)"
   ]
  },
  {
   "cell_type": "code",
   "execution_count": null,
   "id": "df167109",
   "metadata": {},
   "outputs": [],
   "source": [
    "len(doc)"
   ]
  },
  {
   "cell_type": "markdown",
   "id": "aacd18b1",
   "metadata": {},
   "source": [
    "# Lemmatization"
   ]
  },
  {
   "cell_type": "code",
   "execution_count": null,
   "id": "a317cbba",
   "metadata": {
    "scrolled": true
   },
   "outputs": [],
   "source": [
    "lemmas=[token.lemma_ for token in doc]\n",
    "lemmas"
   ]
  },
  {
   "cell_type": "code",
   "execution_count": null,
   "id": "55586638",
   "metadata": {
    "scrolled": true
   },
   "outputs": [],
   "source": [
    "clean_reviews=' '.join(lemmas)\n",
    "clean_reviews"
   ]
  },
  {
   "cell_type": "code",
   "execution_count": null,
   "id": "cdc6ef6b",
   "metadata": {},
   "outputs": [],
   "source": [
    "len(clean_reviews)"
   ]
  },
  {
   "cell_type": "markdown",
   "id": "858b672c",
   "metadata": {},
   "source": [
    "# Feature extraction"
   ]
  },
  {
   "cell_type": "markdown",
   "id": "8c049ff9",
   "metadata": {},
   "source": [
    "# Count vectoriser"
   ]
  },
  {
   "cell_type": "code",
   "execution_count": null,
   "id": "f7faa1e1",
   "metadata": {},
   "outputs": [],
   "source": [
    "from sklearn.feature_extraction.text import CountVectorizer\n",
    "cv=CountVectorizer()\n",
    "Reviews_cv=cv.fit_transform(lemmas)"
   ]
  },
  {
   "cell_type": "code",
   "execution_count": null,
   "id": "155e4c03",
   "metadata": {},
   "outputs": [],
   "source": [
    "print(cv.vocabulary_)"
   ]
  },
  {
   "cell_type": "code",
   "execution_count": null,
   "id": "ea25f538",
   "metadata": {
    "scrolled": true
   },
   "outputs": [],
   "source": [
    "print(cv.get_feature_names()[100:200])"
   ]
  },
  {
   "cell_type": "code",
   "execution_count": null,
   "id": "4bd15f9e",
   "metadata": {},
   "outputs": [],
   "source": [
    "def plot_cloud(wordcloud):\n",
    "    plt.figure(figsize=(40,30))\n",
    "    plt.imshow(wordcloud)\n",
    "    plt.axis('off')\n",
    "    \n",
    "# Generate Word Cloud\n",
    "\n",
    "STOPWORDS.add('pron')\n",
    "STOPWORDS.add('rt')\n",
    "STOPWORDS.add('yeah')\n",
    "wordcloud=WordCloud(width=3000,height=2000,background_color='white',max_words=50,\n",
    "                   colormap='Set1',stopwords=STOPWORDS).generate(clean_reviews)\n",
    "plot_cloud(wordcloud)"
   ]
  },
  {
   "cell_type": "markdown",
   "id": "db68e737",
   "metadata": {},
   "source": [
    "# Named Entity Recognition (NER)"
   ]
  },
  {
   "cell_type": "code",
   "execution_count": null,
   "id": "4d360c45",
   "metadata": {},
   "outputs": [],
   "source": [
    "nlp=spacy.load('en_core_web_sm')\n",
    "\n",
    "one_block=clean_reviews\n",
    "doc_block=nlp(one_block)\n",
    "spacy.displacy.render(doc_block,style='ent',jupyter=True)"
   ]
  },
  {
   "cell_type": "code",
   "execution_count": null,
   "id": "9a7acfae",
   "metadata": {
    "scrolled": true
   },
   "outputs": [],
   "source": [
    "for token in doc_block[100:200]:\n",
    "    print(token,token.pos_)  "
   ]
  },
  {
   "cell_type": "code",
   "execution_count": null,
   "id": "f9ef95fe",
   "metadata": {},
   "outputs": [],
   "source": [
    "nouns_verbs=[token.text for token in doc_block if token.pos_ in ('NOUN','VERB')]\n",
    "print(nouns_verbs[100:200])"
   ]
  },
  {
   "cell_type": "code",
   "execution_count": null,
   "id": "f9cf7c5b",
   "metadata": {},
   "outputs": [],
   "source": [
    "# Counting the noun & verb tokens\n",
    "from sklearn.feature_extraction.text import CountVectorizer\n",
    "cv=CountVectorizer()\n",
    "\n",
    "X=cv.fit_transform(nouns_verbs)\n",
    "sum_words=X.sum(axis=0)\n",
    "\n",
    "words_freq=[(word,sum_words[0,idx]) for word,idx in cv.vocabulary_.items()]\n",
    "words_freq=sorted(words_freq, key=lambda x: x[1], reverse=True)\n",
    "\n",
    "wd_df=pd.DataFrame(words_freq)\n",
    "wd_df.columns=['word','count']\n",
    "wd_df[0:10] # viewing top ten results"
   ]
  },
  {
   "cell_type": "code",
   "execution_count": null,
   "id": "abf44ce6",
   "metadata": {},
   "outputs": [],
   "source": [
    "wd_df[0:10].plot.bar(x='word',figsize=(12,8),title='Top 10 nouns and verbs')"
   ]
  },
  {
   "cell_type": "markdown",
   "id": "2f9def69",
   "metadata": {},
   "source": [
    "# Emotion Mining - Sentiment Analysis"
   ]
  },
  {
   "cell_type": "code",
   "execution_count": null,
   "id": "38c8db4c",
   "metadata": {},
   "outputs": [],
   "source": [
    "from nltk import tokenize\n",
    "sentences=tokenize.sent_tokenize(' '.join(data.Review))\n",
    "sentences"
   ]
  },
  {
   "cell_type": "code",
   "execution_count": null,
   "id": "6883996b",
   "metadata": {},
   "outputs": [],
   "source": [
    "len(sentences)"
   ]
  },
  {
   "cell_type": "code",
   "execution_count": null,
   "id": "4ccd9b16",
   "metadata": {},
   "outputs": [],
   "source": [
    "df=pd.DataFrame(sentences,columns=['reviews'])\n",
    "df"
   ]
  },
  {
   "cell_type": "code",
   "execution_count": null,
   "id": "4b052ad8",
   "metadata": {},
   "outputs": [],
   "source": [
    "!pip install afinn\n",
    "from afinn import Afinn\n",
    "afinn = Afinn()"
   ]
  },
  {
   "cell_type": "code",
   "execution_count": null,
   "id": "2bc5103f",
   "metadata": {},
   "outputs": [],
   "source": [
    "nlp=spacy.load('en_core_web_sm')\n",
    "\n",
    "def calculate_sentiment(text:str=None):\n",
    "    sent_score=0\n",
    "    if text:\n",
    "        sentence=nlp(text)\n",
    "        for word in sentence:\n",
    "            sent_score+=afinn.score(word.lemma_)\n",
    "    return sent_score"
   ]
  },
  {
   "cell_type": "code",
   "execution_count": null,
   "id": "587a9c51",
   "metadata": {},
   "outputs": [],
   "source": [
    "calculate_sentiment(text='bad')"
   ]
  },
  {
   "cell_type": "code",
   "execution_count": null,
   "id": "0533b0a3",
   "metadata": {},
   "outputs": [],
   "source": [
    "df['sentiment_value']=df['reviews'].apply(calculate_sentiment)\n",
    "df['sentiment_value']"
   ]
  },
  {
   "cell_type": "code",
   "execution_count": null,
   "id": "df01d941",
   "metadata": {},
   "outputs": [],
   "source": [
    "df"
   ]
  },
  {
   "cell_type": "code",
   "execution_count": null,
   "id": "b1f6c618",
   "metadata": {
    "scrolled": true
   },
   "outputs": [],
   "source": [
    "df['sentiment_value'].describe()"
   ]
  },
  {
   "cell_type": "markdown",
   "id": "e86ff4f6",
   "metadata": {},
   "source": [
    "# Negative Reviews"
   ]
  },
  {
   "cell_type": "code",
   "execution_count": null,
   "id": "66adc848",
   "metadata": {},
   "outputs": [],
   "source": [
    "df[df['sentiment_value']<0]"
   ]
  },
  {
   "cell_type": "code",
   "execution_count": null,
   "id": "52e65ad7",
   "metadata": {
    "scrolled": false
   },
   "outputs": [],
   "source": [
    "import seaborn as sns\n",
    "plt.figure(figsize=(15,10))\n",
    "sns.distplot(df['sentiment_value'])"
   ]
  },
  {
   "cell_type": "code",
   "execution_count": null,
   "id": "b594b48d",
   "metadata": {},
   "outputs": [],
   "source": [
    "df['index']=range(0,len(df))\n",
    "df"
   ]
  },
  {
   "cell_type": "code",
   "execution_count": null,
   "id": "a785714c",
   "metadata": {},
   "outputs": [],
   "source": [
    "plt.figure(figsize=(15,10))\n",
    "sns.lineplot(y='sentiment_value',x='index',data=df)"
   ]
  },
  {
   "cell_type": "code",
   "execution_count": null,
   "id": "efa723dd",
   "metadata": {},
   "outputs": [],
   "source": [
    "neg_sentences=tokenize.sent_tokenize(' '.join(df[df['sentiment_value']<0].reviews))\n",
    "neg_sentences"
   ]
  },
  {
   "cell_type": "code",
   "execution_count": null,
   "id": "fc44bf26",
   "metadata": {},
   "outputs": [],
   "source": [
    "nlp=spacy.load('en_core_web_sm')\n",
    "neg_doc=nlp(' '.join(neg_sentences))\n",
    "print(neg_doc)"
   ]
  },
  {
   "cell_type": "code",
   "execution_count": null,
   "id": "7e36f542",
   "metadata": {},
   "outputs": [],
   "source": [
    "lemmas=[token.lemma_ for token in neg_doc]\n",
    "print(lemmas)"
   ]
  },
  {
   "cell_type": "code",
   "execution_count": null,
   "id": "937ca0b2",
   "metadata": {},
   "outputs": [],
   "source": [
    "clean_neg_lemas=' '.join(lemmas)\n",
    "clean_neg_lemas"
   ]
  },
  {
   "cell_type": "code",
   "execution_count": null,
   "id": "ec914a69",
   "metadata": {},
   "outputs": [],
   "source": [
    "def plot_cloud(wordcloud):\n",
    "    plt.figure(figsize=(40,30))\n",
    "    plt.imshow(wordcloud)\n",
    "    plt.axis('off')\n",
    "    \n",
    "# Generate Word Cloud\n",
    "\n",
    "STOPWORDS.add('pron')\n",
    "STOPWORDS.add('rt')\n",
    "STOPWORDS.add('yeah')\n",
    "wordcloud=WordCloud(width=3000,height=2000,background_color='white',max_words=50,\n",
    "                   colormap='Set1',stopwords=STOPWORDS).generate(clean_neg_lemas)\n",
    "plot_cloud(wordcloud)"
   ]
  },
  {
   "cell_type": "code",
   "execution_count": null,
   "id": "0cdc1bf1",
   "metadata": {},
   "outputs": [],
   "source": [
    "data.head(10)"
   ]
  },
  {
   "cell_type": "code",
   "execution_count": null,
   "id": "0b405bc3",
   "metadata": {},
   "outputs": [],
   "source": [
    "data_neg = data.loc[data[\"Rating\"]<3]\n",
    "data_neg = data_neg.reset_index(drop=True)"
   ]
  },
  {
   "cell_type": "code",
   "execution_count": null,
   "id": "5c9f7cb2",
   "metadata": {},
   "outputs": [],
   "source": [
    "data_pos= data.loc[data[\"Rating\"]==5]\n",
    "data_pos = data_pos.reset_index(drop=True)"
   ]
  },
  {
   "cell_type": "code",
   "execution_count": null,
   "id": "02ba1a89",
   "metadata": {},
   "outputs": [],
   "source": [
    "data_posi = data_pos.loc[:len(data_neg)]"
   ]
  },
  {
   "cell_type": "code",
   "execution_count": null,
   "id": "eb903ff0",
   "metadata": {},
   "outputs": [],
   "source": [
    "data_all = pd.concat([data_neg, data_posi], axis =0)\n",
    "data_all = data_all.reset_index(drop= True)"
   ]
  },
  {
   "cell_type": "code",
   "execution_count": null,
   "id": "c3ffdeb2",
   "metadata": {
    "scrolled": true
   },
   "outputs": [],
   "source": [
    "data_all.head(20)"
   ]
  },
  {
   "cell_type": "code",
   "execution_count": null,
   "id": "505b3452",
   "metadata": {},
   "outputs": [],
   "source": [
    "len(data_all)"
   ]
  },
  {
   "cell_type": "markdown",
   "id": "4f167795",
   "metadata": {},
   "source": [
    "## Create Sentiment Column"
   ]
  },
  {
   "cell_type": "code",
   "execution_count": null,
   "id": "372f6c87",
   "metadata": {},
   "outputs": [],
   "source": [
    "data_all.loc[data_all[\"Rating\"]<=3.0,\"Sentiment\"]=\"Negative\"\n",
    "data_all.loc[data_all[\"Rating\"]>3.0,\"Sentiment\"]=\"Positive\"\n",
    "data_all"
   ]
  },
  {
   "cell_type": "code",
   "execution_count": null,
   "id": "1fd55877",
   "metadata": {},
   "outputs": [],
   "source": [
    "data_all"
   ]
  },
  {
   "cell_type": "code",
   "execution_count": null,
   "id": "a1324273",
   "metadata": {},
   "outputs": [],
   "source": [
    "data_all = data_all.sample(frac=1)\n",
    "data_all = data_all.reset_index(drop=True)"
   ]
  },
  {
   "cell_type": "code",
   "execution_count": null,
   "id": "08181f83",
   "metadata": {},
   "outputs": [],
   "source": [
    "data_all.head(20)"
   ]
  },
  {
   "cell_type": "markdown",
   "id": "8ccc7cc0",
   "metadata": {},
   "source": [
    "# Model_Building"
   ]
  },
  {
   "cell_type": "code",
   "execution_count": null,
   "id": "ccf6c3c2",
   "metadata": {},
   "outputs": [],
   "source": [
    "from sklearn.model_selection import train_test_split\n",
    "from sklearn.metrics import f1_score, confusion_matrix, accuracy_score\n",
    "from sklearn.svm import SVC\n",
    "from sklearn.naive_bayes import GaussianNB\n",
    "from sklearn.feature_extraction.text import CountVectorizer\n",
    "from sklearn.feature_extraction.text import CountVectorizer\n",
    "from sklearn.ensemble import RandomForestClassifier"
   ]
  },
  {
   "cell_type": "code",
   "execution_count": null,
   "id": "52b75d54",
   "metadata": {},
   "outputs": [],
   "source": [
    "X_train, X_test, y_train, y_test = train_test_split(data_all.Review,data_all.Sentiment, test_size=0.3, random_state= 33)"
   ]
  },
  {
   "cell_type": "code",
   "execution_count": null,
   "id": "52faf807",
   "metadata": {},
   "outputs": [],
   "source": [
    "countvector = CountVectorizer(ngram_range=(2,2))\n",
    "X_train_v = countvector.fit_transform(X_train)\n",
    "X_test_v = countvector.transform(X_test)"
   ]
  },
  {
   "cell_type": "markdown",
   "id": "23a44f84",
   "metadata": {},
   "source": [
    "### Logestic regression"
   ]
  },
  {
   "cell_type": "code",
   "execution_count": null,
   "id": "ba178bf7",
   "metadata": {
    "scrolled": true
   },
   "outputs": [],
   "source": [
    "from sklearn.linear_model import LogisticRegression\n",
    "\n",
    "lr = LogisticRegression()\n",
    "lr.fit(X_train_v, y_train)\n"
   ]
  },
  {
   "cell_type": "code",
   "execution_count": null,
   "id": "b372fe9f",
   "metadata": {},
   "outputs": [],
   "source": [
    "predictions_lr = lr.predict(X_test_v)"
   ]
  },
  {
   "cell_type": "code",
   "execution_count": null,
   "id": "2e60a657",
   "metadata": {},
   "outputs": [],
   "source": [
    "from sklearn.metrics import classification_report,confusion_matrix,accuracy_score\n",
    "report_lr=classification_report(y_test,predictions_lr)\n",
    "print(report_lr)"
   ]
  },
  {
   "cell_type": "markdown",
   "id": "4ab7c662",
   "metadata": {},
   "source": [
    "### Random Forest Classifier"
   ]
  },
  {
   "cell_type": "code",
   "execution_count": null,
   "id": "b7788bbe",
   "metadata": {},
   "outputs": [],
   "source": [
    "randomclassifier=RandomForestClassifier(n_estimators=100,criterion='entropy')\n",
    "randomclassifier.fit(X_train_v,y_train)"
   ]
  },
  {
   "cell_type": "code",
   "execution_count": null,
   "id": "54b16c63",
   "metadata": {},
   "outputs": [],
   "source": [
    "predictions_RF = randomclassifier.predict(X_test_v)"
   ]
  },
  {
   "cell_type": "code",
   "execution_count": null,
   "id": "f28ac230",
   "metadata": {},
   "outputs": [],
   "source": [
    "report_RF=classification_report(y_test,predictions_RF)\n",
    "print(report_RF)"
   ]
  },
  {
   "cell_type": "markdown",
   "id": "b4d70139",
   "metadata": {},
   "source": [
    "### Naive Bayes"
   ]
  },
  {
   "cell_type": "code",
   "execution_count": null,
   "id": "b93b39d1",
   "metadata": {
    "scrolled": true
   },
   "outputs": [],
   "source": [
    "from sklearn.naive_bayes import MultinomialNB\n",
    "naive_bayes_classifier = MultinomialNB()\n",
    "naive_bayes_classifier.fit(X_train_v, y_train)"
   ]
  },
  {
   "cell_type": "code",
   "execution_count": null,
   "id": "dd107a9f",
   "metadata": {},
   "outputs": [],
   "source": [
    "predictions_NB = naive_bayes_classifier.predict(X_test_v)"
   ]
  },
  {
   "cell_type": "code",
   "execution_count": null,
   "id": "dd9616c6",
   "metadata": {},
   "outputs": [],
   "source": [
    "report_NB=classification_report(y_test,predictions_NB)\n",
    "print(report_NB)"
   ]
  },
  {
   "cell_type": "markdown",
   "id": "7a2146a6",
   "metadata": {},
   "source": [
    "### Support Vector Machine"
   ]
  },
  {
   "cell_type": "code",
   "execution_count": null,
   "id": "6ff2701d",
   "metadata": {},
   "outputs": [],
   "source": [
    "from sklearn.svm import SVC\n",
    "svm= SVC()\n",
    "svm.fit(X_train_v, y_train)"
   ]
  },
  {
   "cell_type": "code",
   "execution_count": null,
   "id": "0678de78",
   "metadata": {},
   "outputs": [],
   "source": [
    "predictions_sv = svm.predict(X_test_v)"
   ]
  },
  {
   "cell_type": "code",
   "execution_count": null,
   "id": "c951e4cf",
   "metadata": {},
   "outputs": [],
   "source": [
    "report_sv=classification_report(y_test,predictions_sv)\n",
    "print(report_sv)"
   ]
  },
  {
   "cell_type": "markdown",
   "id": "feb84606",
   "metadata": {},
   "source": [
    "### KNN"
   ]
  },
  {
   "cell_type": "code",
   "execution_count": null,
   "id": "3be9c29f",
   "metadata": {},
   "outputs": [],
   "source": [
    "from sklearn.neighbors import KNeighborsClassifier\n",
    "KNN=KNeighborsClassifier()\n",
    "KNN.fit(X_train_v, y_train)"
   ]
  },
  {
   "cell_type": "code",
   "execution_count": null,
   "id": "9fb7e8aa",
   "metadata": {},
   "outputs": [],
   "source": [
    "predictions_knn = KNN.predict(X_test_v)"
   ]
  },
  {
   "cell_type": "code",
   "execution_count": null,
   "id": "76fb4d70",
   "metadata": {},
   "outputs": [],
   "source": [
    "report_knn=classification_report(y_test,predictions_knn)\n",
    "print(report_knn)"
   ]
  },
  {
   "cell_type": "code",
   "execution_count": null,
   "id": "4671ab99",
   "metadata": {},
   "outputs": [],
   "source": [
    "print(\"final model is Naive Bayes with 94% acc.\")"
   ]
  },
  {
   "cell_type": "code",
   "execution_count": null,
   "id": "ec44c380",
   "metadata": {},
   "outputs": [],
   "source": [
    "rev = [\"Awesome food....Must visit place... Couldnt enjoy swimming pool facility. Rooms are clean.. Very good experince....\"]\n",
    "rev_vec = countvector.transform(rev)"
   ]
  },
  {
   "cell_type": "code",
   "execution_count": null,
   "id": "ccf12b94",
   "metadata": {},
   "outputs": [],
   "source": [
    " naive_bayes_classifier.predict(rev_vec)"
   ]
  },
  {
   "cell_type": "code",
   "execution_count": null,
   "id": "f0cb0715",
   "metadata": {},
   "outputs": [],
   "source": [
    "rev2 = [\"In room AC not working properly,No remote working,All games n swimming pool is time restrictions, it's very bad thing\"]\n",
    "rev2_vec = countvector.transform(rev2)\n",
    "naive_bayes_classifier.predict(rev2_vec)"
   ]
  },
  {
   "cell_type": "code",
   "execution_count": null,
   "id": "5283c3e8",
   "metadata": {},
   "outputs": [],
   "source": []
  },
  {
   "cell_type": "code",
   "execution_count": null,
   "id": "d675ffc2",
   "metadata": {},
   "outputs": [],
   "source": []
  }
 ],
 "metadata": {
  "kernelspec": {
   "display_name": "Python 3 (ipykernel)",
   "language": "python",
   "name": "python3"
  },
  "language_info": {
   "codemirror_mode": {
    "name": "ipython",
    "version": 3
   },
   "file_extension": ".py",
   "mimetype": "text/x-python",
   "name": "python",
   "nbconvert_exporter": "python",
   "pygments_lexer": "ipython3",
   "version": "3.9.13"
  }
 },
 "nbformat": 4,
 "nbformat_minor": 5
}
